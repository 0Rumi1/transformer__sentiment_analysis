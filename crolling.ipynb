{
 "cells": [
  {
   "cell_type": "code",
   "execution_count": null,
   "metadata": {},
   "outputs": [],
   "source": [
    "# !pip install google_play_scraper"
   ]
  },
  {
   "attachments": {},
   "cell_type": "markdown",
   "metadata": {},
   "source": [
    "##### 구글앱 코드 참고\n",
    "\n",
    "1. [블로그](https://blog.naver.com/kgh5654/222829820507)"
   ]
  },
  {
   "cell_type": "code",
   "execution_count": null,
   "metadata": {},
   "outputs": [],
   "source": [
    "\n",
    "# 앱 이름 추출 \n",
    "from google_play_scraper import app\n",
    "result = app(\n",
    "    'droom.sleepIfUCan',            # 앱 id\n",
    "    lang='ko', # efaults to 'en'    # 언어 \n",
    "    country='kr' # defaults to 'us' # 국가\n",
    ")"
   ]
  },
  {
   "cell_type": "code",
   "execution_count": null,
   "metadata": {},
   "outputs": [],
   "source": [
    "# 앱 리뷰\n",
    "from google_play_scraper import Sort, reviews_all\n",
    "result = reviews_all(\n",
    "    'droom.sleepIfUCan',\n",
    "    sleep_milliseconds=10, # 프로그램 실행 중지 시간(대기시간) : 대량의 요청으로 많은 트랙픽이 발생하므로\n",
    "    lang='ko', # 언어\n",
    "    country='kr', # 국가\n",
    "    sort=Sort.MOST_RELEVANT, # 정렬(관련성, 최신 등 가능)\n",
    "    filter_score_with=None # 별점 필터 None : 모든 별점을 뜻함\n",
    ")"
   ]
  },
  {
   "cell_type": "code",
   "execution_count": null,
   "metadata": {},
   "outputs": [],
   "source": [
    "print(result)"
   ]
  },
  {
   "cell_type": "code",
   "execution_count": null,
   "metadata": {},
   "outputs": [],
   "source": [
    "# 어떤 기준으로 정렬할 것인지?\n",
    "# 어떤 별점을 추출할 것인지?\n",
    "\n",
    "# 4-5 점을 준 유저의 특성 구분 > 이를 통해 잠재적 고객 및 유료 전환을 파악\n",
    "# 1-2 점을 준 유저의 특성 구분 > 어떤 이유로 이탈하는지, 개선 방향 확인 "
   ]
  },
  {
   "cell_type": "code",
   "execution_count": 2,
   "metadata": {},
   "outputs": [],
   "source": [
    "\n",
    "import pandas as pd\n",
    "\n",
    "# result=pd.DataFrame(result)\n",
    "# result.to_excel('딜라이트_구글앱리뷰.xlsx', engine='xlsxwriter')"
   ]
  },
  {
   "cell_type": "code",
   "execution_count": 7,
   "metadata": {},
   "outputs": [],
   "source": [
    "# 자연어 처리 => 긍정적 리뷰와 부정적 리뷰 확인\n",
    "# 100자 이상의 후기글을 요약\n",
    "# 피드백 활용\n"
   ]
  },
  {
   "attachments": {},
   "cell_type": "markdown",
   "metadata": {},
   "source": [
    "- 저장한 리뷰 파일 불러오기"
   ]
  },
  {
   "cell_type": "code",
   "execution_count": 10,
   "metadata": {},
   "outputs": [
    {
     "name": "stdout",
     "output_type": "stream",
     "text": [
      "Defaulting to user installation because normal site-packages is not writeable\n",
      "Collecting openpyxl\n",
      "  Downloading openpyxl-3.1.2-py2.py3-none-any.whl (249 kB)\n",
      "     ---------------------------------------- 0.0/250.0 kB ? eta -:--:--\n",
      "     ------------------------------------- 250.0/250.0 kB 15.0 MB/s eta 0:00:00\n",
      "Collecting et-xmlfile\n",
      "  Downloading et_xmlfile-1.1.0-py3-none-any.whl (4.7 kB)\n",
      "Installing collected packages: et-xmlfile, openpyxl\n",
      "Successfully installed et-xmlfile-1.1.0 openpyxl-3.1.2\n"
     ]
    }
   ],
   "source": [
    "# !pip install openpyxl"
   ]
  },
  {
   "cell_type": "code",
   "execution_count": 21,
   "metadata": {},
   "outputs": [],
   "source": [
    "df = pd.read_excel('딜라이트_구글앱리뷰.xlsx')"
   ]
  },
  {
   "cell_type": "code",
   "execution_count": 34,
   "metadata": {},
   "outputs": [
    {
     "name": "stdout",
     "output_type": "stream",
     "text": [
      "Defaulting to user installation because normal site-packages is not writeable\n",
      "Collecting aspose-cells\n",
      "  Downloading aspose-cells-23.3.0.tar.gz (12.3 MB)\n",
      "     ---------------------------------------- 0.0/12.3 MB ? eta -:--:--\n",
      "      --------------------------------------- 0.2/12.3 MB 4.1 MB/s eta 0:00:03\n",
      "     - -------------------------------------- 0.6/12.3 MB 7.1 MB/s eta 0:00:02\n",
      "     --- ------------------------------------ 1.1/12.3 MB 8.7 MB/s eta 0:00:02\n",
      "     ------ --------------------------------- 1.9/12.3 MB 10.7 MB/s eta 0:00:01\n",
      "     -------- ------------------------------- 2.7/12.3 MB 12.4 MB/s eta 0:00:01\n",
      "     ------------ --------------------------- 3.9/12.3 MB 14.0 MB/s eta 0:00:01\n",
      "     ---------------- ----------------------- 5.2/12.3 MB 16.5 MB/s eta 0:00:01\n",
      "     -------------------- ------------------- 6.5/12.3 MB 17.2 MB/s eta 0:00:01\n",
      "     ---------------------- ----------------- 7.1/12.3 MB 17.4 MB/s eta 0:00:01\n",
      "     -------------------------- ------------- 8.1/12.3 MB 17.9 MB/s eta 0:00:01\n",
      "     --------------------------- ------------ 8.6/12.3 MB 17.8 MB/s eta 0:00:01\n",
      "     ------------------------------ --------- 9.5/12.3 MB 17.4 MB/s eta 0:00:01\n",
      "     --------------------------------- ----- 10.5/12.3 MB 18.7 MB/s eta 0:00:01\n",
      "     ------------------------------------ -- 11.6/12.3 MB 21.1 MB/s eta 0:00:01\n",
      "     --------------------------------------  12.0/12.3 MB 19.9 MB/s eta 0:00:01\n",
      "     --------------------------------------  12.3/12.3 MB 19.8 MB/s eta 0:00:01\n",
      "     --------------------------------------- 12.3/12.3 MB 18.7 MB/s eta 0:00:00\n",
      "  Preparing metadata (setup.py): started\n",
      "  Preparing metadata (setup.py): finished with status 'done'\n",
      "Requirement already satisfied: JPype1>=1.2.1 in c:\\users\\user\\appdata\\roaming\\python\\python38\\site-packages (from aspose-cells) (1.4.1)\n",
      "Requirement already satisfied: packaging in c:\\programdata\\anaconda3\\envs\\server\\lib\\site-packages (from JPype1>=1.2.1->aspose-cells) (23.0)\n",
      "Building wheels for collected packages: aspose-cells\n",
      "  Building wheel for aspose-cells (setup.py): started\n",
      "  Building wheel for aspose-cells (setup.py): finished with status 'done'\n",
      "  Created wheel for aspose-cells: filename=aspose_cells-23.3.0-py3-none-any.whl size=12298107 sha256=02a15bc309555ca6d1e984200038d5180d67b1a418d8f2e38a87a73a58cbcbc8\n",
      "  Stored in directory: c:\\users\\user\\appdata\\local\\pip\\cache\\wheels\\5e\\a2\\4b\\dc281bcdcf096fda97c1eb62c99ee3099f0fc938914eeff9f2\n",
      "Successfully built aspose-cells\n",
      "Installing collected packages: aspose-cells\n",
      "Successfully installed aspose-cells-23.3.0\n"
     ]
    }
   ],
   "source": [
    "# !pip install aspose-cells\n"
   ]
  },
  {
   "cell_type": "code",
   "execution_count": 35,
   "metadata": {},
   "outputs": [],
   "source": [
    "import jpype\n",
    "import asposecells\n",
    "jpype.startJVM()\n",
    "from asposecells.api import Workbook, SaveFormat\n",
    "\n",
    "# Create a Workbook object with Excel file's path\n",
    "workbook =  Workbook(\"딜라이트_구글앱리뷰.xlsx\")\n",
    "\n",
    "# Save XLSX as CSV\n",
    "workbook.save(\"dromm_google.csv\" , SaveFormat.CSV)"
   ]
  },
  {
   "cell_type": "code",
   "execution_count": 55,
   "metadata": {},
   "outputs": [],
   "source": [
    "df2 = pd.read_csv('dromm_google.csv')"
   ]
  },
  {
   "cell_type": "code",
   "execution_count": 56,
   "metadata": {},
   "outputs": [
    {
     "data": {
      "text/html": [
       "<div>\n",
       "<style scoped>\n",
       "    .dataframe tbody tr th:only-of-type {\n",
       "        vertical-align: middle;\n",
       "    }\n",
       "\n",
       "    .dataframe tbody tr th {\n",
       "        vertical-align: top;\n",
       "    }\n",
       "\n",
       "    .dataframe thead th {\n",
       "        text-align: right;\n",
       "    }\n",
       "</style>\n",
       "<table border=\"1\" class=\"dataframe\">\n",
       "  <thead>\n",
       "    <tr style=\"text-align: right;\">\n",
       "      <th></th>\n",
       "      <th>Unnamed: 0</th>\n",
       "      <th>reviewId</th>\n",
       "      <th>userName</th>\n",
       "      <th>userImage</th>\n",
       "      <th>content</th>\n",
       "      <th>score</th>\n",
       "      <th>thumbsUpCount</th>\n",
       "      <th>reviewCreatedVersion</th>\n",
       "      <th>at</th>\n",
       "      <th>replyContent</th>\n",
       "      <th>repliedAt</th>\n",
       "    </tr>\n",
       "  </thead>\n",
       "  <tbody>\n",
       "    <tr>\n",
       "      <th>0</th>\n",
       "      <td>0</td>\n",
       "      <td>ef9743e9-6ec4-4124-bf2c-7dd77ea3e131</td>\n",
       "      <td>물흐리기</td>\n",
       "      <td>https://play-lh.googleusercontent.com/a/AGNmyx...</td>\n",
       "      <td>몇년째 너무 유용하게 사용하고 있습니다 옛날에 사용하던 갤럭시s9+로 사용해서 그런...</td>\n",
       "      <td>5.0</td>\n",
       "      <td>7.0</td>\n",
       "      <td>5.54.04</td>\n",
       "      <td>2023-03-30 11:31:21</td>\n",
       "      <td>안녕하세요, 알라미팀입니다. 자꾸만 홈화면으로 나가 전원을 끄게 되어 불편하셨을 것...</td>\n",
       "      <td>2023-04-05 11:51:48</td>\n",
       "    </tr>\n",
       "    <tr>\n",
       "      <th>1</th>\n",
       "      <td>1</td>\n",
       "      <td>55155585-be75-4a6c-95fa-e6e62e55d207</td>\n",
       "      <td>JS</td>\n",
       "      <td>https://play-lh.googleusercontent.com/a/AGNmyx...</td>\n",
       "      <td>잘 쓰고있습니다 다만 한가지 문제가 있어 질문드립니다. 알람이 울리고 끄고 다시 자...</td>\n",
       "      <td>5.0</td>\n",
       "      <td>4.0</td>\n",
       "      <td>5.55.00</td>\n",
       "      <td>2023-03-31 20:04:48</td>\n",
       "      <td>안녕하세요, 알라미팀입니다. 알람을 오래 울리게 둔 상태에서 발열이 심해져 불편을 ...</td>\n",
       "      <td>2023-04-05 11:55:38</td>\n",
       "    </tr>\n",
       "    <tr>\n",
       "      <th>2</th>\n",
       "      <td>2</td>\n",
       "      <td>a4108fea-8155-45de-8b73-164149537e83</td>\n",
       "      <td>김지윤</td>\n",
       "      <td>https://play-lh.googleusercontent.com/a-/ACB-R...</td>\n",
       "      <td>나쁘지 않게 사용하고 있는 어플인데.. 분명 문제 풀 때, 무제한으로 음소거 가능하...</td>\n",
       "      <td>3.0</td>\n",
       "      <td>64.0</td>\n",
       "      <td>5.51.05</td>\n",
       "      <td>2023-02-11 07:59:23</td>\n",
       "      <td>안녕하세요, 미션 중 음소거 무제한 설정을 해뒀음에도 소리가 울려 많이 놀라셨을 것...</td>\n",
       "      <td>2023-02-14 10:48:04</td>\n",
       "    </tr>\n",
       "  </tbody>\n",
       "</table>\n",
       "</div>"
      ],
      "text/plain": [
       "  Unnamed: 0                              reviewId userName   \n",
       "0          0  ef9743e9-6ec4-4124-bf2c-7dd77ea3e131     물흐리기  \\\n",
       "1          1  55155585-be75-4a6c-95fa-e6e62e55d207       JS   \n",
       "2          2  a4108fea-8155-45de-8b73-164149537e83      김지윤   \n",
       "\n",
       "                                           userImage   \n",
       "0  https://play-lh.googleusercontent.com/a/AGNmyx...  \\\n",
       "1  https://play-lh.googleusercontent.com/a/AGNmyx...   \n",
       "2  https://play-lh.googleusercontent.com/a-/ACB-R...   \n",
       "\n",
       "                                             content  score  thumbsUpCount   \n",
       "0  몇년째 너무 유용하게 사용하고 있습니다 옛날에 사용하던 갤럭시s9+로 사용해서 그런...    5.0            7.0  \\\n",
       "1  잘 쓰고있습니다 다만 한가지 문제가 있어 질문드립니다. 알람이 울리고 끄고 다시 자...    5.0            4.0   \n",
       "2  나쁘지 않게 사용하고 있는 어플인데.. 분명 문제 풀 때, 무제한으로 음소거 가능하...    3.0           64.0   \n",
       "\n",
       "  reviewCreatedVersion                   at   \n",
       "0              5.54.04  2023-03-30 11:31:21  \\\n",
       "1              5.55.00  2023-03-31 20:04:48   \n",
       "2              5.51.05  2023-02-11 07:59:23   \n",
       "\n",
       "                                        replyContent            repliedAt  \n",
       "0  안녕하세요, 알라미팀입니다. 자꾸만 홈화면으로 나가 전원을 끄게 되어 불편하셨을 것...  2023-04-05 11:51:48  \n",
       "1  안녕하세요, 알라미팀입니다. 알람을 오래 울리게 둔 상태에서 발열이 심해져 불편을 ...  2023-04-05 11:55:38  \n",
       "2  안녕하세요, 미션 중 음소거 무제한 설정을 해뒀음에도 소리가 울려 많이 놀라셨을 것...  2023-02-14 10:48:04  "
      ]
     },
     "execution_count": 56,
     "metadata": {},
     "output_type": "execute_result"
    }
   ],
   "source": [
    "df2.head(3)"
   ]
  },
  {
   "attachments": {},
   "cell_type": "markdown",
   "metadata": {},
   "source": [
    "- 불필요한 행 삭제"
   ]
  },
  {
   "cell_type": "code",
   "execution_count": 57,
   "metadata": {},
   "outputs": [],
   "source": [
    "df2 = df2.drop(['Unnamed: 0', 'reviewId', 'userImage', 'repliedAt'], axis=1)"
   ]
  },
  {
   "cell_type": "code",
   "execution_count": 58,
   "metadata": {},
   "outputs": [
    {
     "data": {
      "text/html": [
       "<div>\n",
       "<style scoped>\n",
       "    .dataframe tbody tr th:only-of-type {\n",
       "        vertical-align: middle;\n",
       "    }\n",
       "\n",
       "    .dataframe tbody tr th {\n",
       "        vertical-align: top;\n",
       "    }\n",
       "\n",
       "    .dataframe thead th {\n",
       "        text-align: right;\n",
       "    }\n",
       "</style>\n",
       "<table border=\"1\" class=\"dataframe\">\n",
       "  <thead>\n",
       "    <tr style=\"text-align: right;\">\n",
       "      <th></th>\n",
       "      <th>userName</th>\n",
       "      <th>content</th>\n",
       "      <th>score</th>\n",
       "      <th>thumbsUpCount</th>\n",
       "      <th>reviewCreatedVersion</th>\n",
       "      <th>at</th>\n",
       "      <th>replyContent</th>\n",
       "    </tr>\n",
       "  </thead>\n",
       "  <tbody>\n",
       "    <tr>\n",
       "      <th>0</th>\n",
       "      <td>물흐리기</td>\n",
       "      <td>몇년째 너무 유용하게 사용하고 있습니다 옛날에 사용하던 갤럭시s9+로 사용해서 그런...</td>\n",
       "      <td>5.0</td>\n",
       "      <td>7.0</td>\n",
       "      <td>5.54.04</td>\n",
       "      <td>2023-03-30 11:31:21</td>\n",
       "      <td>안녕하세요, 알라미팀입니다. 자꾸만 홈화면으로 나가 전원을 끄게 되어 불편하셨을 것...</td>\n",
       "    </tr>\n",
       "    <tr>\n",
       "      <th>1</th>\n",
       "      <td>JS</td>\n",
       "      <td>잘 쓰고있습니다 다만 한가지 문제가 있어 질문드립니다. 알람이 울리고 끄고 다시 자...</td>\n",
       "      <td>5.0</td>\n",
       "      <td>4.0</td>\n",
       "      <td>5.55.00</td>\n",
       "      <td>2023-03-31 20:04:48</td>\n",
       "      <td>안녕하세요, 알라미팀입니다. 알람을 오래 울리게 둔 상태에서 발열이 심해져 불편을 ...</td>\n",
       "    </tr>\n",
       "    <tr>\n",
       "      <th>2</th>\n",
       "      <td>김지윤</td>\n",
       "      <td>나쁘지 않게 사용하고 있는 어플인데.. 분명 문제 풀 때, 무제한으로 음소거 가능하...</td>\n",
       "      <td>3.0</td>\n",
       "      <td>64.0</td>\n",
       "      <td>5.51.05</td>\n",
       "      <td>2023-02-11 07:59:23</td>\n",
       "      <td>안녕하세요, 미션 중 음소거 무제한 설정을 해뒀음에도 소리가 울려 많이 놀라셨을 것...</td>\n",
       "    </tr>\n",
       "    <tr>\n",
       "      <th>3</th>\n",
       "      <td>J Lee</td>\n",
       "      <td>잘쓰고 있었는데 얼마전 이상한 일이 일어남. 알람을 5개씩 맞췄는데도 아침에 내가 ...</td>\n",
       "      <td>1.0</td>\n",
       "      <td>0.0</td>\n",
       "      <td>5.55.00</td>\n",
       "      <td>2023-04-06 07:26:43</td>\n",
       "      <td>NaN</td>\n",
       "    </tr>\n",
       "    <tr>\n",
       "      <th>4</th>\n",
       "      <td>홍성민</td>\n",
       "      <td>다시 잠들기 기능 등 다 좋습니다. 다만 다른 사람의 의견에는 '알람 해제 어려움'...</td>\n",
       "      <td>5.0</td>\n",
       "      <td>8.0</td>\n",
       "      <td>5.54.51-beta</td>\n",
       "      <td>2023-03-30 22:26:19</td>\n",
       "      <td>안녕하세요, 소중한 시간 내어 의견 남겨주셔서 감사해요. 원하시는 일정에 따라 알람...</td>\n",
       "    </tr>\n",
       "    <tr>\n",
       "      <th>...</th>\n",
       "      <td>...</td>\n",
       "      <td>...</td>\n",
       "      <td>...</td>\n",
       "      <td>...</td>\n",
       "      <td>...</td>\n",
       "      <td>...</td>\n",
       "      <td>...</td>\n",
       "    </tr>\n",
       "    <tr>\n",
       "      <th>53811</th>\n",
       "      <td>Google 사용자</td>\n",
       "      <td>조음</td>\n",
       "      <td>5.0</td>\n",
       "      <td>0.0</td>\n",
       "      <td>NaN</td>\n",
       "      <td>2013-04-03 16:15:31</td>\n",
       "      <td>NaN</td>\n",
       "    </tr>\n",
       "    <tr>\n",
       "      <th>53812</th>\n",
       "      <td>Google 사용자</td>\n",
       "      <td>올</td>\n",
       "      <td>5.0</td>\n",
       "      <td>0.0</td>\n",
       "      <td>NaN</td>\n",
       "      <td>2013-03-05 03:31:30</td>\n",
       "      <td>NaN</td>\n",
       "    </tr>\n",
       "    <tr>\n",
       "      <th>53813</th>\n",
       "      <td>Google 사용자</td>\n",
       "      <td>good</td>\n",
       "      <td>4.0</td>\n",
       "      <td>0.0</td>\n",
       "      <td>NaN</td>\n",
       "      <td>2013-02-15 04:10:43</td>\n",
       "      <td>NaN</td>\n",
       "    </tr>\n",
       "    <tr>\n",
       "      <th>53814</th>\n",
       "      <td>Google 사용자</td>\n",
       "      <td>good</td>\n",
       "      <td>5.0</td>\n",
       "      <td>0.0</td>\n",
       "      <td>NaN</td>\n",
       "      <td>2013-03-15 02:22:05</td>\n",
       "      <td>NaN</td>\n",
       "    </tr>\n",
       "    <tr>\n",
       "      <th>53815</th>\n",
       "      <td>NaN</td>\n",
       "      <td>NaN</td>\n",
       "      <td>NaN</td>\n",
       "      <td>NaN</td>\n",
       "      <td>NaN</td>\n",
       "      <td>NaN</td>\n",
       "      <td>NaN</td>\n",
       "    </tr>\n",
       "  </tbody>\n",
       "</table>\n",
       "<p>53816 rows × 7 columns</p>\n",
       "</div>"
      ],
      "text/plain": [
       "         userName                                            content  score   \n",
       "0            물흐리기  몇년째 너무 유용하게 사용하고 있습니다 옛날에 사용하던 갤럭시s9+로 사용해서 그런...    5.0  \\\n",
       "1              JS  잘 쓰고있습니다 다만 한가지 문제가 있어 질문드립니다. 알람이 울리고 끄고 다시 자...    5.0   \n",
       "2             김지윤  나쁘지 않게 사용하고 있는 어플인데.. 분명 문제 풀 때, 무제한으로 음소거 가능하...    3.0   \n",
       "3           J Lee  잘쓰고 있었는데 얼마전 이상한 일이 일어남. 알람을 5개씩 맞췄는데도 아침에 내가 ...    1.0   \n",
       "4             홍성민  다시 잠들기 기능 등 다 좋습니다. 다만 다른 사람의 의견에는 '알람 해제 어려움'...    5.0   \n",
       "...           ...                                                ...    ...   \n",
       "53811  Google 사용자                                                 조음    5.0   \n",
       "53812  Google 사용자                                                  올    5.0   \n",
       "53813  Google 사용자                                               good    4.0   \n",
       "53814  Google 사용자                                               good    5.0   \n",
       "53815         NaN                                                NaN    NaN   \n",
       "\n",
       "       thumbsUpCount reviewCreatedVersion                   at   \n",
       "0                7.0              5.54.04  2023-03-30 11:31:21  \\\n",
       "1                4.0              5.55.00  2023-03-31 20:04:48   \n",
       "2               64.0              5.51.05  2023-02-11 07:59:23   \n",
       "3                0.0              5.55.00  2023-04-06 07:26:43   \n",
       "4                8.0         5.54.51-beta  2023-03-30 22:26:19   \n",
       "...              ...                  ...                  ...   \n",
       "53811            0.0                  NaN  2013-04-03 16:15:31   \n",
       "53812            0.0                  NaN  2013-03-05 03:31:30   \n",
       "53813            0.0                  NaN  2013-02-15 04:10:43   \n",
       "53814            0.0                  NaN  2013-03-15 02:22:05   \n",
       "53815            NaN                  NaN                  NaN   \n",
       "\n",
       "                                            replyContent  \n",
       "0      안녕하세요, 알라미팀입니다. 자꾸만 홈화면으로 나가 전원을 끄게 되어 불편하셨을 것...  \n",
       "1      안녕하세요, 알라미팀입니다. 알람을 오래 울리게 둔 상태에서 발열이 심해져 불편을 ...  \n",
       "2      안녕하세요, 미션 중 음소거 무제한 설정을 해뒀음에도 소리가 울려 많이 놀라셨을 것...  \n",
       "3                                                    NaN  \n",
       "4      안녕하세요, 소중한 시간 내어 의견 남겨주셔서 감사해요. 원하시는 일정에 따라 알람...  \n",
       "...                                                  ...  \n",
       "53811                                                NaN  \n",
       "53812                                                NaN  \n",
       "53813                                                NaN  \n",
       "53814                                                NaN  \n",
       "53815                                                NaN  \n",
       "\n",
       "[53816 rows x 7 columns]"
      ]
     },
     "execution_count": 58,
     "metadata": {},
     "output_type": "execute_result"
    }
   ],
   "source": [
    "df2"
   ]
  },
  {
   "cell_type": "code",
   "execution_count": 59,
   "metadata": {},
   "outputs": [],
   "source": [
    "# score 분포 확인하기\n",
    "\n",
    "import matplotlib.pyplot as plt \n",
    "import seaborn as sns"
   ]
  },
  {
   "cell_type": "code",
   "execution_count": 60,
   "metadata": {},
   "outputs": [
    {
     "data": {
      "text/plain": [
       "<Axes: xlabel='score', ylabel='Count'>"
      ]
     },
     "execution_count": 60,
     "metadata": {},
     "output_type": "execute_result"
    },
    {
     "data": {
      "image/png": "[encoded data removed]",
      "text/plain": [
       "<Figure size 640x480 with 1 Axes>"
      ]
     },
     "metadata": {},
     "output_type": "display_data"
    }
   ],
   "source": [
    "sns.histplot(data=df2, x='score')"
   ]
  },
  {
   "cell_type": "code",
   "execution_count": 61,
   "metadata": {},
   "outputs": [],
   "source": [
    "vc = df2['score'].value_counts().sort_index(ascending=False)"
   ]
  },
  {
   "cell_type": "code",
   "execution_count": 62,
   "metadata": {},
   "outputs": [
    {
     "data": {
      "text/plain": [
       "score\n",
       "5.0    44396\n",
       "4.0     4654\n",
       "3.0     1391\n",
       "2.0      812\n",
       "1.0     2562\n",
       "Name: count, dtype: int64"
      ]
     },
     "execution_count": 62,
     "metadata": {},
     "output_type": "execute_result"
    }
   ],
   "source": [
    "vc"
   ]
  },
  {
   "cell_type": "code",
   "execution_count": 63,
   "metadata": {},
   "outputs": [
    {
     "data": {
      "text/plain": [
       "[Text(0, 0, '2562'),\n",
       " Text(0, 0, '812'),\n",
       " Text(0, 0, '1391'),\n",
       " Text(0, 0, '4654'),\n",
       " Text(0, 0, '44396')]"
      ]
     },
     "execution_count": 63,
     "metadata": {},
     "output_type": "execute_result"
    },
    {
     "data": {
      "image/png": "[encoded data removed]",
      "text/plain": [
       "<Figure size 640x480 with 1 Axes>"
      ]
     },
     "metadata": {},
     "output_type": "display_data"
    }
   ],
   "source": [
    "ct = sns.countplot(x = 'score', data = df2)\n",
    "ct.bar_label(ct.containers[0])"
   ]
  },
  {
   "cell_type": "code",
   "execution_count": 64,
   "metadata": {},
   "outputs": [
    {
     "data": {
      "image/png": "[encoded data removed]",
      "text/plain": [
       "<Figure size 640x480 with 1 Axes>"
      ]
     },
     "metadata": {},
     "output_type": "display_data"
    }
   ],
   "source": [
    "plt.pie(vc, labels=vc.index, autopct='%.1f%%')\n",
    "plt.title('Google App Review - score %')\n",
    "# plt.legend()\n",
    "plt.show()"
   ]
  },
  {
   "cell_type": "code",
   "execution_count": 65,
   "metadata": {},
   "outputs": [],
   "source": [
    "# 긍정적 리뷰의 요약\n",
    "# 부정적 리뷰의 요약 (score: 1~2)"
   ]
  },
  {
   "cell_type": "code",
   "execution_count": 82,
   "metadata": {},
   "outputs": [],
   "source": [
    "df = df2.loc[(df2['score'] == 1.0) | (df2['score'] == 2.0)]"
   ]
  },
  {
   "cell_type": "code",
   "execution_count": null,
   "metadata": {},
   "outputs": [],
   "source": [
    "df_12 = (df2.score == 1.0) | (df2.score == 2.0) # 조건식작성\n",
    "# df[condition) "
   ]
  },
  {
   "cell_type": "code",
   "execution_count": null,
   "metadata": {},
   "outputs": [],
   "source": [
    "df_12"
   ]
  },
  {
   "cell_type": "code",
   "execution_count": 93,
   "metadata": {},
   "outputs": [
    {
     "data": {
      "text/html": [
       "<div>\n",
       "<style scoped>\n",
       "    .dataframe tbody tr th:only-of-type {\n",
       "        vertical-align: middle;\n",
       "    }\n",
       "\n",
       "    .dataframe tbody tr th {\n",
       "        vertical-align: top;\n",
       "    }\n",
       "\n",
       "    .dataframe thead th {\n",
       "        text-align: right;\n",
       "    }\n",
       "</style>\n",
       "<table border=\"1\" class=\"dataframe\">\n",
       "  <thead>\n",
       "    <tr style=\"text-align: right;\">\n",
       "      <th></th>\n",
       "      <th>userName</th>\n",
       "      <th>content</th>\n",
       "      <th>score</th>\n",
       "      <th>thumbsUpCount</th>\n",
       "      <th>reviewCreatedVersion</th>\n",
       "      <th>at</th>\n",
       "      <th>replyContent</th>\n",
       "    </tr>\n",
       "  </thead>\n",
       "  <tbody>\n",
       "    <tr>\n",
       "      <th>0</th>\n",
       "      <td>물흐리기</td>\n",
       "      <td>몇년째 너무 유용하게 사용하고 있습니다 옛날에 사용하던 갤럭시s9+로 사용해서 그런...</td>\n",
       "      <td>True</td>\n",
       "      <td>7.0</td>\n",
       "      <td>5.54.04</td>\n",
       "      <td>2023-03-30 11:31:21</td>\n",
       "      <td>안녕하세요, 알라미팀입니다. 자꾸만 홈화면으로 나가 전원을 끄게 되어 불편하셨을 것...</td>\n",
       "    </tr>\n",
       "    <tr>\n",
       "      <th>1</th>\n",
       "      <td>JS</td>\n",
       "      <td>잘 쓰고있습니다 다만 한가지 문제가 있어 질문드립니다. 알람이 울리고 끄고 다시 자...</td>\n",
       "      <td>True</td>\n",
       "      <td>4.0</td>\n",
       "      <td>5.55.00</td>\n",
       "      <td>2023-03-31 20:04:48</td>\n",
       "      <td>안녕하세요, 알라미팀입니다. 알람을 오래 울리게 둔 상태에서 발열이 심해져 불편을 ...</td>\n",
       "    </tr>\n",
       "    <tr>\n",
       "      <th>2</th>\n",
       "      <td>김지윤</td>\n",
       "      <td>나쁘지 않게 사용하고 있는 어플인데.. 분명 문제 풀 때, 무제한으로 음소거 가능하...</td>\n",
       "      <td>True</td>\n",
       "      <td>64.0</td>\n",
       "      <td>5.51.05</td>\n",
       "      <td>2023-02-11 07:59:23</td>\n",
       "      <td>안녕하세요, 미션 중 음소거 무제한 설정을 해뒀음에도 소리가 울려 많이 놀라셨을 것...</td>\n",
       "    </tr>\n",
       "    <tr>\n",
       "      <th>3</th>\n",
       "      <td>J Lee</td>\n",
       "      <td>잘쓰고 있었는데 얼마전 이상한 일이 일어남. 알람을 5개씩 맞췄는데도 아침에 내가 ...</td>\n",
       "      <td>True</td>\n",
       "      <td>0.0</td>\n",
       "      <td>5.55.00</td>\n",
       "      <td>2023-04-06 07:26:43</td>\n",
       "      <td>NaN</td>\n",
       "    </tr>\n",
       "    <tr>\n",
       "      <th>4</th>\n",
       "      <td>홍성민</td>\n",
       "      <td>다시 잠들기 기능 등 다 좋습니다. 다만 다른 사람의 의견에는 '알람 해제 어려움'...</td>\n",
       "      <td>True</td>\n",
       "      <td>8.0</td>\n",
       "      <td>5.54.51-beta</td>\n",
       "      <td>2023-03-30 22:26:19</td>\n",
       "      <td>안녕하세요, 소중한 시간 내어 의견 남겨주셔서 감사해요. 원하시는 일정에 따라 알람...</td>\n",
       "    </tr>\n",
       "    <tr>\n",
       "      <th>...</th>\n",
       "      <td>...</td>\n",
       "      <td>...</td>\n",
       "      <td>...</td>\n",
       "      <td>...</td>\n",
       "      <td>...</td>\n",
       "      <td>...</td>\n",
       "      <td>...</td>\n",
       "    </tr>\n",
       "    <tr>\n",
       "      <th>53811</th>\n",
       "      <td>Google 사용자</td>\n",
       "      <td>조음</td>\n",
       "      <td>True</td>\n",
       "      <td>0.0</td>\n",
       "      <td>NaN</td>\n",
       "      <td>2013-04-03 16:15:31</td>\n",
       "      <td>NaN</td>\n",
       "    </tr>\n",
       "    <tr>\n",
       "      <th>53812</th>\n",
       "      <td>Google 사용자</td>\n",
       "      <td>올</td>\n",
       "      <td>True</td>\n",
       "      <td>0.0</td>\n",
       "      <td>NaN</td>\n",
       "      <td>2013-03-05 03:31:30</td>\n",
       "      <td>NaN</td>\n",
       "    </tr>\n",
       "    <tr>\n",
       "      <th>53813</th>\n",
       "      <td>Google 사용자</td>\n",
       "      <td>good</td>\n",
       "      <td>True</td>\n",
       "      <td>0.0</td>\n",
       "      <td>NaN</td>\n",
       "      <td>2013-02-15 04:10:43</td>\n",
       "      <td>NaN</td>\n",
       "    </tr>\n",
       "    <tr>\n",
       "      <th>53814</th>\n",
       "      <td>Google 사용자</td>\n",
       "      <td>good</td>\n",
       "      <td>True</td>\n",
       "      <td>0.0</td>\n",
       "      <td>NaN</td>\n",
       "      <td>2013-03-15 02:22:05</td>\n",
       "      <td>NaN</td>\n",
       "    </tr>\n",
       "    <tr>\n",
       "      <th>53815</th>\n",
       "      <td>NaN</td>\n",
       "      <td>NaN</td>\n",
       "      <td>True</td>\n",
       "      <td>NaN</td>\n",
       "      <td>NaN</td>\n",
       "      <td>NaN</td>\n",
       "      <td>NaN</td>\n",
       "    </tr>\n",
       "  </tbody>\n",
       "</table>\n",
       "<p>53816 rows × 7 columns</p>\n",
       "</div>"
      ],
      "text/plain": [
       "         userName                                            content  score   \n",
       "0            물흐리기  몇년째 너무 유용하게 사용하고 있습니다 옛날에 사용하던 갤럭시s9+로 사용해서 그런...   True  \\\n",
       "1              JS  잘 쓰고있습니다 다만 한가지 문제가 있어 질문드립니다. 알람이 울리고 끄고 다시 자...   True   \n",
       "2             김지윤  나쁘지 않게 사용하고 있는 어플인데.. 분명 문제 풀 때, 무제한으로 음소거 가능하...   True   \n",
       "3           J Lee  잘쓰고 있었는데 얼마전 이상한 일이 일어남. 알람을 5개씩 맞췄는데도 아침에 내가 ...   True   \n",
       "4             홍성민  다시 잠들기 기능 등 다 좋습니다. 다만 다른 사람의 의견에는 '알람 해제 어려움'...   True   \n",
       "...           ...                                                ...    ...   \n",
       "53811  Google 사용자                                                 조음   True   \n",
       "53812  Google 사용자                                                  올   True   \n",
       "53813  Google 사용자                                               good   True   \n",
       "53814  Google 사용자                                               good   True   \n",
       "53815         NaN                                                NaN   True   \n",
       "\n",
       "       thumbsUpCount reviewCreatedVersion                   at   \n",
       "0                7.0              5.54.04  2023-03-30 11:31:21  \\\n",
       "1                4.0              5.55.00  2023-03-31 20:04:48   \n",
       "2               64.0              5.51.05  2023-02-11 07:59:23   \n",
       "3                0.0              5.55.00  2023-04-06 07:26:43   \n",
       "4                8.0         5.54.51-beta  2023-03-30 22:26:19   \n",
       "...              ...                  ...                  ...   \n",
       "53811            0.0                  NaN  2013-04-03 16:15:31   \n",
       "53812            0.0                  NaN  2013-03-05 03:31:30   \n",
       "53813            0.0                  NaN  2013-02-15 04:10:43   \n",
       "53814            0.0                  NaN  2013-03-15 02:22:05   \n",
       "53815            NaN                  NaN                  NaN   \n",
       "\n",
       "                                            replyContent  \n",
       "0      안녕하세요, 알라미팀입니다. 자꾸만 홈화면으로 나가 전원을 끄게 되어 불편하셨을 것...  \n",
       "1      안녕하세요, 알라미팀입니다. 알람을 오래 울리게 둔 상태에서 발열이 심해져 불편을 ...  \n",
       "2      안녕하세요, 미션 중 음소거 무제한 설정을 해뒀음에도 소리가 울려 많이 놀라셨을 것...  \n",
       "3                                                    NaN  \n",
       "4      안녕하세요, 소중한 시간 내어 의견 남겨주셔서 감사해요. 원하시는 일정에 따라 알람...  \n",
       "...                                                  ...  \n",
       "53811                                                NaN  \n",
       "53812                                                NaN  \n",
       "53813                                                NaN  \n",
       "53814                                                NaN  \n",
       "53815                                                NaN  \n",
       "\n",
       "[53816 rows x 7 columns]"
      ]
     },
     "execution_count": 93,
     "metadata": {},
     "output_type": "execute_result"
    }
   ],
   "source": [
    "df2"
   ]
  },
  {
   "cell_type": "code",
   "execution_count": 84,
   "metadata": {},
   "outputs": [],
   "source": [
    "df = df.reset_index(drop=True)"
   ]
  },
  {
   "cell_type": "code",
   "execution_count": 87,
   "metadata": {},
   "outputs": [
    {
     "name": "stdout",
     "output_type": "stream",
     "text": [
      "<class 'pandas.core.frame.DataFrame'>\n",
      "RangeIndex: 53816 entries, 0 to 53815\n",
      "Data columns (total 7 columns):\n",
      " #   Column                Non-Null Count  Dtype  \n",
      "---  ------                --------------  -----  \n",
      " 0   userName              53815 non-null  object \n",
      " 1   content               53737 non-null  object \n",
      " 2   score                 53816 non-null  float64\n",
      " 3   thumbsUpCount         53815 non-null  float64\n",
      " 4   reviewCreatedVersion  50073 non-null  object \n",
      " 5   at                    53815 non-null  object \n",
      " 6   replyContent          14941 non-null  object \n",
      "dtypes: float64(2), object(5)\n",
      "memory usage: 2.9+ MB\n"
     ]
    }
   ],
   "source": [
    "df.info()"
   ]
  },
  {
   "cell_type": "code",
   "execution_count": 91,
   "metadata": {},
   "outputs": [
    {
     "data": {
      "text/plain": [
       "userName                    0\n",
       "content                     0\n",
       "score                       0\n",
       "thumbsUpCount               0\n",
       "reviewCreatedVersion     3742\n",
       "at                          0\n",
       "replyContent            38796\n",
       "dtype: int64"
      ]
     },
     "execution_count": 91,
     "metadata": {},
     "output_type": "execute_result"
    }
   ],
   "source": [
    "df.isnull().sum()"
   ]
  },
  {
   "attachments": {},
   "cell_type": "markdown",
   "metadata": {},
   "source": [
    "- content 내용이 null 값인 행 삭제\n",
    " "
   ]
  },
  {
   "cell_type": "code",
   "execution_count": 89,
   "metadata": {},
   "outputs": [],
   "source": [
    "df.dropna(subset=['content'], inplace=True)"
   ]
  },
  {
   "cell_type": "code",
   "execution_count": 42,
   "metadata": {},
   "outputs": [
    {
     "name": "stderr",
     "output_type": "stream",
     "text": [
      "c:\\ProgramData\\Anaconda3\\envs\\server\\lib\\site-packages\\tqdm\\auto.py:21: TqdmWarning: IProgress not found. Please update jupyter and ipywidgets. See https://ipywidgets.readthedocs.io/en/stable/user_install.html\n",
      "  from .autonotebook import tqdm as notebook_tqdm\n"
     ]
    }
   ],
   "source": [
    "from transformers import PreTrainedTokenizerFast\n",
    "from transformers import BartForConditionalGeneration\n",
    "\n",
    "import pandas as pd\n",
    "import torch"
   ]
  },
  {
   "cell_type": "code",
   "execution_count": 43,
   "metadata": {},
   "outputs": [
    {
     "name": "stderr",
     "output_type": "stream",
     "text": [
      "You passed along `num_labels=3` with an incompatible id to label map: {'0': 'NEGATIVE', '1': 'POSITIVE'}. The number of labels wil be overwritten to 2.\n"
     ]
    }
   ],
   "source": [
    "\n",
    "tokenizer = PreTrainedTokenizerFast.from_pretrained('digit82/kobart-summarization')\n",
    "model = BartForConditionalGeneration.from_pretrained('digit82/kobart-summarization')\n",
    "tokenizer = PreTrainedTokenizerFast.from_pretrained('digit82/kobart-summarization')"
   ]
  },
  {
   "cell_type": "code",
   "execution_count": 44,
   "metadata": {},
   "outputs": [],
   "source": [
    "def generate_summary(text):\n",
    "    if len(text) > 100:\n",
    "        raw_input_ids = tokenizer.encode(text)\n",
    "        input_ids = [tokenizer.bos_token_id] + raw_input_ids + [tokenizer.eos_token_id]\n",
    "        summary_ids = model.generate(torch.tensor([input_ids]), num_beams=5, max_length=1024, no_repeat_ngram_size=2)\n",
    "        return tokenizer.decode(summary_ids.squeeze().tolist(), skip_special_tokens=True)\n",
    "    else:\n",
    "        return text"
   ]
  },
  {
   "cell_type": "code",
   "execution_count": null,
   "metadata": {},
   "outputs": [],
   "source": []
  }
 ],
 "metadata": {
  "kernelspec": {
   "display_name": "base",
   "language": "python",
   "name": "python3"
  },
  "language_info": {
   "codemirror_mode": {
    "name": "ipython",
    "version": 3
   },
   "file_extension": ".py",
   "mimetype": "text/x-python",
   "name": "python",
   "nbconvert_exporter": "python",
   "pygments_lexer": "ipython3",
   "version": "3.8.16"
  },
  "orig_nbformat": 4
 },
 "nbformat": 4,
 "nbformat_minor": 2
}
